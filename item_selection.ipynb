{
 "cells": [
  {
   "cell_type": "code",
   "execution_count": 3,
   "metadata": {},
   "outputs": [],
   "source": [
    "import seaborn as sns\n",
    "import matplotlib.pyplot as plt\n",
    "import numpy as np\n",
    "import pandas as pd"
   ]
  },
  {
   "cell_type": "code",
   "execution_count": 4,
   "metadata": {},
   "outputs": [],
   "source": [
    "# Importer les données\n",
    "so_qte = pd.read_csv('data/SO_QAVG.csv')\n",
    "po_qte = pd.read_csv('data/PO_QAVG.csv')\n",
    "exp_qte = pd.read_csv('data/EXP_QAVG.csv')"
   ]
  },
  {
   "cell_type": "code",
   "execution_count": 5,
   "metadata": {},
   "outputs": [
    {
     "data": {
      "text/html": [
       "<div>\n",
       "<style scoped>\n",
       "    .dataframe tbody tr th:only-of-type {\n",
       "        vertical-align: middle;\n",
       "    }\n",
       "\n",
       "    .dataframe tbody tr th {\n",
       "        vertical-align: top;\n",
       "    }\n",
       "\n",
       "    .dataframe thead th {\n",
       "        text-align: right;\n",
       "    }\n",
       "</style>\n",
       "<table border=\"1\" class=\"dataframe\">\n",
       "  <thead>\n",
       "    <tr style=\"text-align: right;\">\n",
       "      <th></th>\n",
       "      <th>ProdId</th>\n",
       "      <th>QuantityAVG</th>\n",
       "    </tr>\n",
       "  </thead>\n",
       "  <tbody>\n",
       "    <tr>\n",
       "      <th>1336</th>\n",
       "      <td>100</td>\n",
       "      <td>1.026315</td>\n",
       "    </tr>\n",
       "    <tr>\n",
       "      <th>1906</th>\n",
       "      <td>102</td>\n",
       "      <td>1.000000</td>\n",
       "    </tr>\n",
       "    <tr>\n",
       "      <th>1786</th>\n",
       "      <td>106</td>\n",
       "      <td>1.000000</td>\n",
       "    </tr>\n",
       "    <tr>\n",
       "      <th>761</th>\n",
       "      <td>113</td>\n",
       "      <td>1.108247</td>\n",
       "    </tr>\n",
       "    <tr>\n",
       "      <th>1650</th>\n",
       "      <td>115</td>\n",
       "      <td>1.000000</td>\n",
       "    </tr>\n",
       "  </tbody>\n",
       "</table>\n",
       "</div>"
      ],
      "text/plain": [
       "      ProdId  QuantityAVG\n",
       "1336     100     1.026315\n",
       "1906     102     1.000000\n",
       "1786     106     1.000000\n",
       "761      113     1.108247\n",
       "1650     115     1.000000"
      ]
     },
     "execution_count": 5,
     "metadata": {},
     "output_type": "execute_result"
    }
   ],
   "source": [
    "so_qte.sort_values(by='ProdId').head()"
   ]
  },
  {
   "cell_type": "code",
   "execution_count": 6,
   "metadata": {},
   "outputs": [
    {
     "data": {
      "text/html": [
       "<div>\n",
       "<style scoped>\n",
       "    .dataframe tbody tr th:only-of-type {\n",
       "        vertical-align: middle;\n",
       "    }\n",
       "\n",
       "    .dataframe tbody tr th {\n",
       "        vertical-align: top;\n",
       "    }\n",
       "\n",
       "    .dataframe thead th {\n",
       "        text-align: right;\n",
       "    }\n",
       "</style>\n",
       "<table border=\"1\" class=\"dataframe\">\n",
       "  <thead>\n",
       "    <tr style=\"text-align: right;\">\n",
       "      <th></th>\n",
       "      <th>ProdId</th>\n",
       "      <th>QuantityAVG</th>\n",
       "    </tr>\n",
       "  </thead>\n",
       "  <tbody>\n",
       "    <tr>\n",
       "      <th>1460</th>\n",
       "      <td>100</td>\n",
       "      <td>1.538461</td>\n",
       "    </tr>\n",
       "    <tr>\n",
       "      <th>2024</th>\n",
       "      <td>102</td>\n",
       "      <td>1.000000</td>\n",
       "    </tr>\n",
       "    <tr>\n",
       "      <th>1658</th>\n",
       "      <td>106</td>\n",
       "      <td>1.250000</td>\n",
       "    </tr>\n",
       "    <tr>\n",
       "      <th>1239</th>\n",
       "      <td>113</td>\n",
       "      <td>1.956521</td>\n",
       "    </tr>\n",
       "    <tr>\n",
       "      <th>1890</th>\n",
       "      <td>115</td>\n",
       "      <td>1.000000</td>\n",
       "    </tr>\n",
       "  </tbody>\n",
       "</table>\n",
       "</div>"
      ],
      "text/plain": [
       "      ProdId  QuantityAVG\n",
       "1460     100     1.538461\n",
       "2024     102     1.000000\n",
       "1658     106     1.250000\n",
       "1239     113     1.956521\n",
       "1890     115     1.000000"
      ]
     },
     "execution_count": 6,
     "metadata": {},
     "output_type": "execute_result"
    }
   ],
   "source": [
    "po_qte.sort_values(by='ProdId').head()"
   ]
  },
  {
   "cell_type": "code",
   "execution_count": 7,
   "metadata": {},
   "outputs": [
    {
     "data": {
      "text/html": [
       "<div>\n",
       "<style scoped>\n",
       "    .dataframe tbody tr th:only-of-type {\n",
       "        vertical-align: middle;\n",
       "    }\n",
       "\n",
       "    .dataframe tbody tr th {\n",
       "        vertical-align: top;\n",
       "    }\n",
       "\n",
       "    .dataframe thead th {\n",
       "        text-align: right;\n",
       "    }\n",
       "</style>\n",
       "<table border=\"1\" class=\"dataframe\">\n",
       "  <thead>\n",
       "    <tr style=\"text-align: right;\">\n",
       "      <th></th>\n",
       "      <th>ProdId</th>\n",
       "      <th>QuantityAVG</th>\n",
       "    </tr>\n",
       "  </thead>\n",
       "  <tbody>\n",
       "    <tr>\n",
       "      <th>326</th>\n",
       "      <td>5469</td>\n",
       "      <td>300.0</td>\n",
       "    </tr>\n",
       "    <tr>\n",
       "      <th>304</th>\n",
       "      <td>5219</td>\n",
       "      <td>52.0</td>\n",
       "    </tr>\n",
       "    <tr>\n",
       "      <th>285</th>\n",
       "      <td>4968</td>\n",
       "      <td>27.0</td>\n",
       "    </tr>\n",
       "    <tr>\n",
       "      <th>221</th>\n",
       "      <td>3700</td>\n",
       "      <td>19.0</td>\n",
       "    </tr>\n",
       "    <tr>\n",
       "      <th>259</th>\n",
       "      <td>4592</td>\n",
       "      <td>19.0</td>\n",
       "    </tr>\n",
       "  </tbody>\n",
       "</table>\n",
       "</div>"
      ],
      "text/plain": [
       "     ProdId  QuantityAVG\n",
       "326    5469        300.0\n",
       "304    5219         52.0\n",
       "285    4968         27.0\n",
       "221    3700         19.0\n",
       "259    4592         19.0"
      ]
     },
     "execution_count": 7,
     "metadata": {},
     "output_type": "execute_result"
    }
   ],
   "source": [
    "exp_qte.sort_values(by='QuantityAVG', ascending = False).head()"
   ]
  },
  {
   "cell_type": "markdown",
   "metadata": {},
   "source": [
    "### 1. Analyse sur les différences entre Achat et Vente"
   ]
  },
  {
   "cell_type": "code",
   "execution_count": 8,
   "metadata": {},
   "outputs": [
    {
     "data": {
      "text/plain": [
       "((1993, 2), (2030, 2))"
      ]
     },
     "execution_count": 8,
     "metadata": {},
     "output_type": "execute_result"
    }
   ],
   "source": [
    "so_qte.shape, po_qte.shape"
   ]
  },
  {
   "cell_type": "code",
   "execution_count": 9,
   "metadata": {},
   "outputs": [],
   "source": [
    "so_qte.rename(columns={'QuantityAVG': 'SaledQte'}, inplace=True)\n",
    "po_qte.rename(columns={'QuantityAVG': 'PurchasedQte'}, inplace=True)"
   ]
  },
  {
   "cell_type": "code",
   "execution_count": 10,
   "metadata": {},
   "outputs": [
    {
     "data": {
      "text/html": [
       "<div>\n",
       "<style scoped>\n",
       "    .dataframe tbody tr th:only-of-type {\n",
       "        vertical-align: middle;\n",
       "    }\n",
       "\n",
       "    .dataframe tbody tr th {\n",
       "        vertical-align: top;\n",
       "    }\n",
       "\n",
       "    .dataframe thead th {\n",
       "        text-align: right;\n",
       "    }\n",
       "</style>\n",
       "<table border=\"1\" class=\"dataframe\">\n",
       "  <thead>\n",
       "    <tr style=\"text-align: right;\">\n",
       "      <th></th>\n",
       "      <th>ProdId</th>\n",
       "      <th>SaledQte</th>\n",
       "      <th>PurchasedQte</th>\n",
       "    </tr>\n",
       "  </thead>\n",
       "  <tbody>\n",
       "    <tr>\n",
       "      <th>0</th>\n",
       "      <td>100</td>\n",
       "      <td>1.026315</td>\n",
       "      <td>1.538461</td>\n",
       "    </tr>\n",
       "    <tr>\n",
       "      <th>1</th>\n",
       "      <td>102</td>\n",
       "      <td>1.000000</td>\n",
       "      <td>1.000000</td>\n",
       "    </tr>\n",
       "    <tr>\n",
       "      <th>2</th>\n",
       "      <td>106</td>\n",
       "      <td>1.000000</td>\n",
       "      <td>1.250000</td>\n",
       "    </tr>\n",
       "    <tr>\n",
       "      <th>3</th>\n",
       "      <td>113</td>\n",
       "      <td>1.108247</td>\n",
       "      <td>1.956521</td>\n",
       "    </tr>\n",
       "    <tr>\n",
       "      <th>4</th>\n",
       "      <td>115</td>\n",
       "      <td>1.000000</td>\n",
       "      <td>1.000000</td>\n",
       "    </tr>\n",
       "  </tbody>\n",
       "</table>\n",
       "</div>"
      ],
      "text/plain": [
       "   ProdId  SaledQte  PurchasedQte\n",
       "0     100  1.026315      1.538461\n",
       "1     102  1.000000      1.000000\n",
       "2     106  1.000000      1.250000\n",
       "3     113  1.108247      1.956521\n",
       "4     115  1.000000      1.000000"
      ]
     },
     "execution_count": 10,
     "metadata": {},
     "output_type": "execute_result"
    }
   ],
   "source": [
    "# Merge des deux DataFrames\n",
    "all_qte = pd.merge(so_qte, po_qte, on='ProdId', how='outer')\n",
    "all_qte.sort_values(by='ProdId').head()"
   ]
  },
  {
   "cell_type": "code",
   "execution_count": 11,
   "metadata": {},
   "outputs": [
    {
     "data": {
      "text/plain": [
       "(2034, 3)"
      ]
     },
     "execution_count": 11,
     "metadata": {},
     "output_type": "execute_result"
    }
   ],
   "source": [
    "all_qte.shape"
   ]
  },
  {
   "cell_type": "code",
   "execution_count": 12,
   "metadata": {},
   "outputs": [
    {
     "data": {
      "text/plain": [
       "ProdId           0\n",
       "SaledQte        41\n",
       "PurchasedQte     4\n",
       "dtype: int64"
      ]
     },
     "execution_count": 12,
     "metadata": {},
     "output_type": "execute_result"
    }
   ],
   "source": [
    "all_qte.isna().sum()"
   ]
  },
  {
   "cell_type": "code",
   "execution_count": 13,
   "metadata": {},
   "outputs": [],
   "source": [
    "# Remplacer les valeurs manquantes par la moyenne\n",
    "all_qte['SaledQte'] = all_qte['SaledQte'].fillna(all_qte['SaledQte'].mean())\n",
    "all_qte['PurchasedQte'] = all_qte['PurchasedQte'].fillna(all_qte['PurchasedQte'].mean())"
   ]
  },
  {
   "cell_type": "code",
   "execution_count": 14,
   "metadata": {},
   "outputs": [
    {
     "data": {
      "text/plain": [
       "ProdId          0\n",
       "SaledQte        0\n",
       "PurchasedQte    0\n",
       "dtype: int64"
      ]
     },
     "execution_count": 14,
     "metadata": {},
     "output_type": "execute_result"
    }
   ],
   "source": [
    "all_qte.isna().sum()"
   ]
  },
  {
   "cell_type": "code",
   "execution_count": 15,
   "metadata": {},
   "outputs": [
    {
     "data": {
      "text/html": [
       "<div>\n",
       "<style scoped>\n",
       "    .dataframe tbody tr th:only-of-type {\n",
       "        vertical-align: middle;\n",
       "    }\n",
       "\n",
       "    .dataframe tbody tr th {\n",
       "        vertical-align: top;\n",
       "    }\n",
       "\n",
       "    .dataframe thead th {\n",
       "        text-align: right;\n",
       "    }\n",
       "</style>\n",
       "<table border=\"1\" class=\"dataframe\">\n",
       "  <thead>\n",
       "    <tr style=\"text-align: right;\">\n",
       "      <th></th>\n",
       "      <th>ProdId</th>\n",
       "      <th>SaledQte</th>\n",
       "      <th>PurchasedQte</th>\n",
       "    </tr>\n",
       "  </thead>\n",
       "  <tbody>\n",
       "    <tr>\n",
       "      <th>0</th>\n",
       "      <td>100</td>\n",
       "      <td>1.026315</td>\n",
       "      <td>1.538461</td>\n",
       "    </tr>\n",
       "    <tr>\n",
       "      <th>1</th>\n",
       "      <td>102</td>\n",
       "      <td>1.000000</td>\n",
       "      <td>1.000000</td>\n",
       "    </tr>\n",
       "    <tr>\n",
       "      <th>2</th>\n",
       "      <td>106</td>\n",
       "      <td>1.000000</td>\n",
       "      <td>1.250000</td>\n",
       "    </tr>\n",
       "    <tr>\n",
       "      <th>3</th>\n",
       "      <td>113</td>\n",
       "      <td>1.108247</td>\n",
       "      <td>1.956521</td>\n",
       "    </tr>\n",
       "    <tr>\n",
       "      <th>4</th>\n",
       "      <td>115</td>\n",
       "      <td>1.000000</td>\n",
       "      <td>1.000000</td>\n",
       "    </tr>\n",
       "  </tbody>\n",
       "</table>\n",
       "</div>"
      ],
      "text/plain": [
       "   ProdId  SaledQte  PurchasedQte\n",
       "0     100  1.026315      1.538461\n",
       "1     102  1.000000      1.000000\n",
       "2     106  1.000000      1.250000\n",
       "3     113  1.108247      1.956521\n",
       "4     115  1.000000      1.000000"
      ]
     },
     "execution_count": 15,
     "metadata": {},
     "output_type": "execute_result"
    }
   ],
   "source": [
    "all_qte.head()"
   ]
  },
  {
   "cell_type": "code",
   "execution_count": 16,
   "metadata": {},
   "outputs": [
    {
     "data": {
      "text/html": [
       "<div>\n",
       "<style scoped>\n",
       "    .dataframe tbody tr th:only-of-type {\n",
       "        vertical-align: middle;\n",
       "    }\n",
       "\n",
       "    .dataframe tbody tr th {\n",
       "        vertical-align: top;\n",
       "    }\n",
       "\n",
       "    .dataframe thead th {\n",
       "        text-align: right;\n",
       "    }\n",
       "</style>\n",
       "<table border=\"1\" class=\"dataframe\">\n",
       "  <thead>\n",
       "    <tr style=\"text-align: right;\">\n",
       "      <th></th>\n",
       "      <th>ProdId</th>\n",
       "      <th>SaledQte</th>\n",
       "      <th>PurchasedQte</th>\n",
       "    </tr>\n",
       "  </thead>\n",
       "  <tbody>\n",
       "    <tr>\n",
       "      <th>2029</th>\n",
       "      <td>7734</td>\n",
       "      <td>1.329778</td>\n",
       "      <td>2.0</td>\n",
       "    </tr>\n",
       "    <tr>\n",
       "      <th>2030</th>\n",
       "      <td>7735</td>\n",
       "      <td>1.329778</td>\n",
       "      <td>1.0</td>\n",
       "    </tr>\n",
       "    <tr>\n",
       "      <th>2031</th>\n",
       "      <td>7740</td>\n",
       "      <td>1.329778</td>\n",
       "      <td>1.0</td>\n",
       "    </tr>\n",
       "    <tr>\n",
       "      <th>2032</th>\n",
       "      <td>7746</td>\n",
       "      <td>1.000000</td>\n",
       "      <td>3.0</td>\n",
       "    </tr>\n",
       "    <tr>\n",
       "      <th>2033</th>\n",
       "      <td>7753</td>\n",
       "      <td>1.329778</td>\n",
       "      <td>1.0</td>\n",
       "    </tr>\n",
       "  </tbody>\n",
       "</table>\n",
       "</div>"
      ],
      "text/plain": [
       "      ProdId  SaledQte  PurchasedQte\n",
       "2029    7734  1.329778           2.0\n",
       "2030    7735  1.329778           1.0\n",
       "2031    7740  1.329778           1.0\n",
       "2032    7746  1.000000           3.0\n",
       "2033    7753  1.329778           1.0"
      ]
     },
     "execution_count": 16,
     "metadata": {},
     "output_type": "execute_result"
    }
   ],
   "source": [
    "all_qte.tail()"
   ]
  },
  {
   "cell_type": "code",
   "execution_count": 17,
   "metadata": {},
   "outputs": [
    {
     "data": {
      "text/plain": [
       "1239    1.956521\n",
       "Name: PurchasedQte, dtype: float64"
      ]
     },
     "execution_count": 17,
     "metadata": {},
     "output_type": "execute_result"
    }
   ],
   "source": [
    "po_qte.PurchasedQte[po_qte.ProdId == 113]"
   ]
  },
  {
   "cell_type": "code",
   "execution_count": 18,
   "metadata": {},
   "outputs": [
    {
     "data": {
      "text/plain": [
       "(      ProdId  SaledQte\n",
       " 1792    7746       1.0,\n",
       "      ProdId  PurchasedQte\n",
       " 801    7746           3.0,\n",
       "       ProdId  SaledQte  PurchasedQte\n",
       " 2032    7746       1.0           3.0)"
      ]
     },
     "execution_count": 18,
     "metadata": {},
     "output_type": "execute_result"
    }
   ],
   "source": [
    "so_qte[so_qte.ProdId == 7746], po_qte[po_qte.ProdId == 7746], all_qte[all_qte.ProdId == 7746]"
   ]
  },
  {
   "cell_type": "code",
   "execution_count": 19,
   "metadata": {},
   "outputs": [],
   "source": [
    "all_qte['diff'] = all_qte['PurchasedQte'] - all_qte['SaledQte']"
   ]
  },
  {
   "cell_type": "code",
   "execution_count": 20,
   "metadata": {},
   "outputs": [
    {
     "data": {
      "text/html": [
       "<div>\n",
       "<style scoped>\n",
       "    .dataframe tbody tr th:only-of-type {\n",
       "        vertical-align: middle;\n",
       "    }\n",
       "\n",
       "    .dataframe tbody tr th {\n",
       "        vertical-align: top;\n",
       "    }\n",
       "\n",
       "    .dataframe thead th {\n",
       "        text-align: right;\n",
       "    }\n",
       "</style>\n",
       "<table border=\"1\" class=\"dataframe\">\n",
       "  <thead>\n",
       "    <tr style=\"text-align: right;\">\n",
       "      <th></th>\n",
       "      <th>ProdId</th>\n",
       "      <th>SaledQte</th>\n",
       "      <th>PurchasedQte</th>\n",
       "      <th>diff</th>\n",
       "    </tr>\n",
       "  </thead>\n",
       "  <tbody>\n",
       "    <tr>\n",
       "      <th>0</th>\n",
       "      <td>100</td>\n",
       "      <td>1.026315</td>\n",
       "      <td>1.538461</td>\n",
       "      <td>0.512146</td>\n",
       "    </tr>\n",
       "    <tr>\n",
       "      <th>1</th>\n",
       "      <td>102</td>\n",
       "      <td>1.000000</td>\n",
       "      <td>1.000000</td>\n",
       "      <td>0.000000</td>\n",
       "    </tr>\n",
       "    <tr>\n",
       "      <th>2</th>\n",
       "      <td>106</td>\n",
       "      <td>1.000000</td>\n",
       "      <td>1.250000</td>\n",
       "      <td>0.250000</td>\n",
       "    </tr>\n",
       "    <tr>\n",
       "      <th>3</th>\n",
       "      <td>113</td>\n",
       "      <td>1.108247</td>\n",
       "      <td>1.956521</td>\n",
       "      <td>0.848274</td>\n",
       "    </tr>\n",
       "    <tr>\n",
       "      <th>4</th>\n",
       "      <td>115</td>\n",
       "      <td>1.000000</td>\n",
       "      <td>1.000000</td>\n",
       "      <td>0.000000</td>\n",
       "    </tr>\n",
       "  </tbody>\n",
       "</table>\n",
       "</div>"
      ],
      "text/plain": [
       "   ProdId  SaledQte  PurchasedQte      diff\n",
       "0     100  1.026315      1.538461  0.512146\n",
       "1     102  1.000000      1.000000  0.000000\n",
       "2     106  1.000000      1.250000  0.250000\n",
       "3     113  1.108247      1.956521  0.848274\n",
       "4     115  1.000000      1.000000  0.000000"
      ]
     },
     "execution_count": 20,
     "metadata": {},
     "output_type": "execute_result"
    }
   ],
   "source": [
    "all_qte.head()"
   ]
  },
  {
   "cell_type": "code",
   "execution_count": 21,
   "metadata": {},
   "outputs": [
    {
     "data": {
      "text/html": [
       "<div>\n",
       "<style scoped>\n",
       "    .dataframe tbody tr th:only-of-type {\n",
       "        vertical-align: middle;\n",
       "    }\n",
       "\n",
       "    .dataframe tbody tr th {\n",
       "        vertical-align: top;\n",
       "    }\n",
       "\n",
       "    .dataframe thead th {\n",
       "        text-align: right;\n",
       "    }\n",
       "</style>\n",
       "<table border=\"1\" class=\"dataframe\">\n",
       "  <thead>\n",
       "    <tr style=\"text-align: right;\">\n",
       "      <th></th>\n",
       "      <th>ProdId</th>\n",
       "      <th>SaledQte</th>\n",
       "      <th>PurchasedQte</th>\n",
       "      <th>diff</th>\n",
       "    </tr>\n",
       "  </thead>\n",
       "  <tbody>\n",
       "    <tr>\n",
       "      <th>1132</th>\n",
       "      <td>4178</td>\n",
       "      <td>2.395271</td>\n",
       "      <td>187.553191</td>\n",
       "      <td>185.157920</td>\n",
       "    </tr>\n",
       "    <tr>\n",
       "      <th>409</th>\n",
       "      <td>1457</td>\n",
       "      <td>7.301923</td>\n",
       "      <td>159.027777</td>\n",
       "      <td>151.725854</td>\n",
       "    </tr>\n",
       "    <tr>\n",
       "      <th>725</th>\n",
       "      <td>2585</td>\n",
       "      <td>5.521276</td>\n",
       "      <td>150.000000</td>\n",
       "      <td>144.478724</td>\n",
       "    </tr>\n",
       "    <tr>\n",
       "      <th>838</th>\n",
       "      <td>3000</td>\n",
       "      <td>6.040268</td>\n",
       "      <td>137.142857</td>\n",
       "      <td>131.102589</td>\n",
       "    </tr>\n",
       "    <tr>\n",
       "      <th>1134</th>\n",
       "      <td>4187</td>\n",
       "      <td>4.722408</td>\n",
       "      <td>122.916666</td>\n",
       "      <td>118.194258</td>\n",
       "    </tr>\n",
       "    <tr>\n",
       "      <th>1834</th>\n",
       "      <td>6959</td>\n",
       "      <td>8.844444</td>\n",
       "      <td>125.000000</td>\n",
       "      <td>116.155556</td>\n",
       "    </tr>\n",
       "    <tr>\n",
       "      <th>1630</th>\n",
       "      <td>6087</td>\n",
       "      <td>3.096774</td>\n",
       "      <td>100.000000</td>\n",
       "      <td>96.903226</td>\n",
       "    </tr>\n",
       "    <tr>\n",
       "      <th>476</th>\n",
       "      <td>1642</td>\n",
       "      <td>5.955078</td>\n",
       "      <td>101.741935</td>\n",
       "      <td>95.786857</td>\n",
       "    </tr>\n",
       "    <tr>\n",
       "      <th>1147</th>\n",
       "      <td>4225</td>\n",
       "      <td>4.219888</td>\n",
       "      <td>97.029702</td>\n",
       "      <td>92.809814</td>\n",
       "    </tr>\n",
       "    <tr>\n",
       "      <th>908</th>\n",
       "      <td>3248</td>\n",
       "      <td>2.940487</td>\n",
       "      <td>94.705882</td>\n",
       "      <td>91.765395</td>\n",
       "    </tr>\n",
       "    <tr>\n",
       "      <th>1117</th>\n",
       "      <td>4096</td>\n",
       "      <td>18.092369</td>\n",
       "      <td>109.523809</td>\n",
       "      <td>91.431440</td>\n",
       "    </tr>\n",
       "    <tr>\n",
       "      <th>1165</th>\n",
       "      <td>4340</td>\n",
       "      <td>2.488265</td>\n",
       "      <td>88.000000</td>\n",
       "      <td>85.511735</td>\n",
       "    </tr>\n",
       "    <tr>\n",
       "      <th>65</th>\n",
       "      <td>275</td>\n",
       "      <td>1.903488</td>\n",
       "      <td>76.831578</td>\n",
       "      <td>74.928090</td>\n",
       "    </tr>\n",
       "    <tr>\n",
       "      <th>1688</th>\n",
       "      <td>6315</td>\n",
       "      <td>3.904761</td>\n",
       "      <td>64.285714</td>\n",
       "      <td>60.380953</td>\n",
       "    </tr>\n",
       "    <tr>\n",
       "      <th>1316</th>\n",
       "      <td>4885</td>\n",
       "      <td>3.847619</td>\n",
       "      <td>61.666666</td>\n",
       "      <td>57.819047</td>\n",
       "    </tr>\n",
       "    <tr>\n",
       "      <th>1061</th>\n",
       "      <td>3841</td>\n",
       "      <td>1.670534</td>\n",
       "      <td>59.074074</td>\n",
       "      <td>57.403540</td>\n",
       "    </tr>\n",
       "    <tr>\n",
       "      <th>84</th>\n",
       "      <td>321</td>\n",
       "      <td>3.540446</td>\n",
       "      <td>60.935064</td>\n",
       "      <td>57.394618</td>\n",
       "    </tr>\n",
       "    <tr>\n",
       "      <th>785</th>\n",
       "      <td>2797</td>\n",
       "      <td>3.912002</td>\n",
       "      <td>61.062500</td>\n",
       "      <td>57.150498</td>\n",
       "    </tr>\n",
       "    <tr>\n",
       "      <th>1273</th>\n",
       "      <td>4697</td>\n",
       "      <td>1.723112</td>\n",
       "      <td>54.047619</td>\n",
       "      <td>52.324507</td>\n",
       "    </tr>\n",
       "    <tr>\n",
       "      <th>1133</th>\n",
       "      <td>4183</td>\n",
       "      <td>1.382084</td>\n",
       "      <td>53.333333</td>\n",
       "      <td>51.951249</td>\n",
       "    </tr>\n",
       "    <tr>\n",
       "      <th>286</th>\n",
       "      <td>1082</td>\n",
       "      <td>4.511131</td>\n",
       "      <td>55.666666</td>\n",
       "      <td>51.155535</td>\n",
       "    </tr>\n",
       "    <tr>\n",
       "      <th>338</th>\n",
       "      <td>1246</td>\n",
       "      <td>1.434210</td>\n",
       "      <td>51.923076</td>\n",
       "      <td>50.488866</td>\n",
       "    </tr>\n",
       "    <tr>\n",
       "      <th>527</th>\n",
       "      <td>1837</td>\n",
       "      <td>1.845930</td>\n",
       "      <td>51.552631</td>\n",
       "      <td>49.706701</td>\n",
       "    </tr>\n",
       "    <tr>\n",
       "      <th>441</th>\n",
       "      <td>1558</td>\n",
       "      <td>1.074646</td>\n",
       "      <td>50.000000</td>\n",
       "      <td>48.925354</td>\n",
       "    </tr>\n",
       "    <tr>\n",
       "      <th>1040</th>\n",
       "      <td>3713</td>\n",
       "      <td>5.127127</td>\n",
       "      <td>54.010416</td>\n",
       "      <td>48.883289</td>\n",
       "    </tr>\n",
       "    <tr>\n",
       "      <th>1479</th>\n",
       "      <td>5477</td>\n",
       "      <td>3.825203</td>\n",
       "      <td>50.777777</td>\n",
       "      <td>46.952574</td>\n",
       "    </tr>\n",
       "    <tr>\n",
       "      <th>1994</th>\n",
       "      <td>7619</td>\n",
       "      <td>3.432432</td>\n",
       "      <td>50.000000</td>\n",
       "      <td>46.567568</td>\n",
       "    </tr>\n",
       "    <tr>\n",
       "      <th>442</th>\n",
       "      <td>1559</td>\n",
       "      <td>1.116713</td>\n",
       "      <td>45.216374</td>\n",
       "      <td>44.099661</td>\n",
       "    </tr>\n",
       "    <tr>\n",
       "      <th>1503</th>\n",
       "      <td>5636</td>\n",
       "      <td>4.647465</td>\n",
       "      <td>48.095238</td>\n",
       "      <td>43.447773</td>\n",
       "    </tr>\n",
       "    <tr>\n",
       "      <th>625</th>\n",
       "      <td>2153</td>\n",
       "      <td>1.924315</td>\n",
       "      <td>45.363636</td>\n",
       "      <td>43.439321</td>\n",
       "    </tr>\n",
       "    <tr>\n",
       "      <th>1537</th>\n",
       "      <td>5749</td>\n",
       "      <td>1.812958</td>\n",
       "      <td>44.166666</td>\n",
       "      <td>42.353708</td>\n",
       "    </tr>\n",
       "    <tr>\n",
       "      <th>20</th>\n",
       "      <td>166</td>\n",
       "      <td>6.662393</td>\n",
       "      <td>48.615384</td>\n",
       "      <td>41.952991</td>\n",
       "    </tr>\n",
       "    <tr>\n",
       "      <th>1378</th>\n",
       "      <td>5021</td>\n",
       "      <td>1.679406</td>\n",
       "      <td>42.352941</td>\n",
       "      <td>40.673535</td>\n",
       "    </tr>\n",
       "    <tr>\n",
       "      <th>1155</th>\n",
       "      <td>4292</td>\n",
       "      <td>1.461147</td>\n",
       "      <td>41.944444</td>\n",
       "      <td>40.483297</td>\n",
       "    </tr>\n",
       "    <tr>\n",
       "      <th>796</th>\n",
       "      <td>2821</td>\n",
       "      <td>6.843313</td>\n",
       "      <td>47.054794</td>\n",
       "      <td>40.211481</td>\n",
       "    </tr>\n",
       "    <tr>\n",
       "      <th>114</th>\n",
       "      <td>422</td>\n",
       "      <td>1.215082</td>\n",
       "      <td>40.400000</td>\n",
       "      <td>39.184918</td>\n",
       "    </tr>\n",
       "    <tr>\n",
       "      <th>1565</th>\n",
       "      <td>5870</td>\n",
       "      <td>2.771929</td>\n",
       "      <td>41.000000</td>\n",
       "      <td>38.228071</td>\n",
       "    </tr>\n",
       "    <tr>\n",
       "      <th>1789</th>\n",
       "      <td>6759</td>\n",
       "      <td>1.709401</td>\n",
       "      <td>38.875000</td>\n",
       "      <td>37.165599</td>\n",
       "    </tr>\n",
       "    <tr>\n",
       "      <th>1415</th>\n",
       "      <td>5204</td>\n",
       "      <td>7.982269</td>\n",
       "      <td>44.150943</td>\n",
       "      <td>36.168674</td>\n",
       "    </tr>\n",
       "    <tr>\n",
       "      <th>71</th>\n",
       "      <td>283</td>\n",
       "      <td>3.453757</td>\n",
       "      <td>39.411764</td>\n",
       "      <td>35.958007</td>\n",
       "    </tr>\n",
       "    <tr>\n",
       "      <th>1880</th>\n",
       "      <td>7215</td>\n",
       "      <td>1.722891</td>\n",
       "      <td>37.100000</td>\n",
       "      <td>35.377109</td>\n",
       "    </tr>\n",
       "    <tr>\n",
       "      <th>1400</th>\n",
       "      <td>5133</td>\n",
       "      <td>6.122727</td>\n",
       "      <td>41.353846</td>\n",
       "      <td>35.231119</td>\n",
       "    </tr>\n",
       "    <tr>\n",
       "      <th>762</th>\n",
       "      <td>2701</td>\n",
       "      <td>1.326445</td>\n",
       "      <td>36.488549</td>\n",
       "      <td>35.162104</td>\n",
       "    </tr>\n",
       "    <tr>\n",
       "      <th>1824</th>\n",
       "      <td>6924</td>\n",
       "      <td>1.932900</td>\n",
       "      <td>35.714285</td>\n",
       "      <td>33.781385</td>\n",
       "    </tr>\n",
       "    <tr>\n",
       "      <th>543</th>\n",
       "      <td>1862</td>\n",
       "      <td>1.213539</td>\n",
       "      <td>34.253086</td>\n",
       "      <td>33.039547</td>\n",
       "    </tr>\n",
       "    <tr>\n",
       "      <th>1062</th>\n",
       "      <td>3846</td>\n",
       "      <td>1.037593</td>\n",
       "      <td>32.966666</td>\n",
       "      <td>31.929073</td>\n",
       "    </tr>\n",
       "    <tr>\n",
       "      <th>1515</th>\n",
       "      <td>5689</td>\n",
       "      <td>1.571428</td>\n",
       "      <td>33.000000</td>\n",
       "      <td>31.428572</td>\n",
       "    </tr>\n",
       "    <tr>\n",
       "      <th>1468</th>\n",
       "      <td>5403</td>\n",
       "      <td>1.672765</td>\n",
       "      <td>32.533333</td>\n",
       "      <td>30.860568</td>\n",
       "    </tr>\n",
       "    <tr>\n",
       "      <th>468</th>\n",
       "      <td>1625</td>\n",
       "      <td>5.353086</td>\n",
       "      <td>34.687500</td>\n",
       "      <td>29.334414</td>\n",
       "    </tr>\n",
       "    <tr>\n",
       "      <th>116</th>\n",
       "      <td>425</td>\n",
       "      <td>4.791666</td>\n",
       "      <td>34.000000</td>\n",
       "      <td>29.208334</td>\n",
       "    </tr>\n",
       "  </tbody>\n",
       "</table>\n",
       "</div>"
      ],
      "text/plain": [
       "      ProdId   SaledQte  PurchasedQte        diff\n",
       "1132    4178   2.395271    187.553191  185.157920\n",
       "409     1457   7.301923    159.027777  151.725854\n",
       "725     2585   5.521276    150.000000  144.478724\n",
       "838     3000   6.040268    137.142857  131.102589\n",
       "1134    4187   4.722408    122.916666  118.194258\n",
       "1834    6959   8.844444    125.000000  116.155556\n",
       "1630    6087   3.096774    100.000000   96.903226\n",
       "476     1642   5.955078    101.741935   95.786857\n",
       "1147    4225   4.219888     97.029702   92.809814\n",
       "908     3248   2.940487     94.705882   91.765395\n",
       "1117    4096  18.092369    109.523809   91.431440\n",
       "1165    4340   2.488265     88.000000   85.511735\n",
       "65       275   1.903488     76.831578   74.928090\n",
       "1688    6315   3.904761     64.285714   60.380953\n",
       "1316    4885   3.847619     61.666666   57.819047\n",
       "1061    3841   1.670534     59.074074   57.403540\n",
       "84       321   3.540446     60.935064   57.394618\n",
       "785     2797   3.912002     61.062500   57.150498\n",
       "1273    4697   1.723112     54.047619   52.324507\n",
       "1133    4183   1.382084     53.333333   51.951249\n",
       "286     1082   4.511131     55.666666   51.155535\n",
       "338     1246   1.434210     51.923076   50.488866\n",
       "527     1837   1.845930     51.552631   49.706701\n",
       "441     1558   1.074646     50.000000   48.925354\n",
       "1040    3713   5.127127     54.010416   48.883289\n",
       "1479    5477   3.825203     50.777777   46.952574\n",
       "1994    7619   3.432432     50.000000   46.567568\n",
       "442     1559   1.116713     45.216374   44.099661\n",
       "1503    5636   4.647465     48.095238   43.447773\n",
       "625     2153   1.924315     45.363636   43.439321\n",
       "1537    5749   1.812958     44.166666   42.353708\n",
       "20       166   6.662393     48.615384   41.952991\n",
       "1378    5021   1.679406     42.352941   40.673535\n",
       "1155    4292   1.461147     41.944444   40.483297\n",
       "796     2821   6.843313     47.054794   40.211481\n",
       "114      422   1.215082     40.400000   39.184918\n",
       "1565    5870   2.771929     41.000000   38.228071\n",
       "1789    6759   1.709401     38.875000   37.165599\n",
       "1415    5204   7.982269     44.150943   36.168674\n",
       "71       283   3.453757     39.411764   35.958007\n",
       "1880    7215   1.722891     37.100000   35.377109\n",
       "1400    5133   6.122727     41.353846   35.231119\n",
       "762     2701   1.326445     36.488549   35.162104\n",
       "1824    6924   1.932900     35.714285   33.781385\n",
       "543     1862   1.213539     34.253086   33.039547\n",
       "1062    3846   1.037593     32.966666   31.929073\n",
       "1515    5689   1.571428     33.000000   31.428572\n",
       "1468    5403   1.672765     32.533333   30.860568\n",
       "468     1625   5.353086     34.687500   29.334414\n",
       "116      425   4.791666     34.000000   29.208334"
      ]
     },
     "execution_count": 21,
     "metadata": {},
     "output_type": "execute_result"
    }
   ],
   "source": [
    "all_qte.sort_values(by='diff', ascending=False).head(50)"
   ]
  },
  {
   "cell_type": "code",
   "execution_count": 23,
   "metadata": {},
   "outputs": [],
   "source": [
    "# créer un ficher csv depuis le DataFrame all_qte\n",
    "all_qte.to_csv('data/selected_items.csv', index=False)"
   ]
  },
  {
   "cell_type": "code",
   "execution_count": 24,
   "metadata": {},
   "outputs": [
    {
     "data": {
      "text/plain": [
       "count    2034.000000\n",
       "mean        4.309831\n",
       "std        11.515242\n",
       "min        -0.666667\n",
       "25%         0.357142\n",
       "50%         1.274106\n",
       "75%         3.365444\n",
       "max       185.157920\n",
       "Name: diff, dtype: float64"
      ]
     },
     "execution_count": 24,
     "metadata": {},
     "output_type": "execute_result"
    }
   ],
   "source": [
    "all_qte['diff'].describe()"
   ]
  },
  {
   "cell_type": "code",
   "execution_count": 25,
   "metadata": {},
   "outputs": [
    {
     "data": {
      "image/png": "[encoded data removed]",
      "text/plain": [
       "<Figure size 1500x600 with 1 Axes>"
      ]
     },
     "metadata": {},
     "output_type": "display_data"
    }
   ],
   "source": [
    "fig = plt.figure(figsize=(15, 6))\n",
    "sns.boxplot(x='diff', data=all_qte)\n",
    "plt.title('Différence entre les quantités achetées et vendues')\n",
    "ticks = np.arange(0, 190, step=10)  # Ajuste 'step' selon tes besoins\n",
    "plt.xticks(ticks=ticks)\n",
    "plt.show()"
   ]
  },
  {
   "cell_type": "code",
   "execution_count": 26,
   "metadata": {},
   "outputs": [
    {
     "data": {
      "text/plain": [
       "14"
      ]
     },
     "execution_count": 26,
     "metadata": {},
     "output_type": "execute_result"
    }
   ],
   "source": [
    "all_qte[all_qte['diff'] > 60].shape[0]"
   ]
  },
  {
   "cell_type": "markdown",
   "metadata": {},
   "source": [
    "### 2. Analyse  sur les quantités périmés"
   ]
  },
  {
   "cell_type": "code",
   "execution_count": 27,
   "metadata": {},
   "outputs": [
    {
     "data": {
      "text/html": [
       "<div>\n",
       "<style scoped>\n",
       "    .dataframe tbody tr th:only-of-type {\n",
       "        vertical-align: middle;\n",
       "    }\n",
       "\n",
       "    .dataframe tbody tr th {\n",
       "        vertical-align: top;\n",
       "    }\n",
       "\n",
       "    .dataframe thead th {\n",
       "        text-align: right;\n",
       "    }\n",
       "</style>\n",
       "<table border=\"1\" class=\"dataframe\">\n",
       "  <thead>\n",
       "    <tr style=\"text-align: right;\">\n",
       "      <th></th>\n",
       "      <th>ProdId</th>\n",
       "      <th>QuantityAVG</th>\n",
       "    </tr>\n",
       "  </thead>\n",
       "  <tbody>\n",
       "    <tr>\n",
       "      <th>326</th>\n",
       "      <td>5469</td>\n",
       "      <td>300.0</td>\n",
       "    </tr>\n",
       "    <tr>\n",
       "      <th>304</th>\n",
       "      <td>5219</td>\n",
       "      <td>52.0</td>\n",
       "    </tr>\n",
       "    <tr>\n",
       "      <th>285</th>\n",
       "      <td>4968</td>\n",
       "      <td>27.0</td>\n",
       "    </tr>\n",
       "    <tr>\n",
       "      <th>221</th>\n",
       "      <td>3700</td>\n",
       "      <td>19.0</td>\n",
       "    </tr>\n",
       "    <tr>\n",
       "      <th>259</th>\n",
       "      <td>4592</td>\n",
       "      <td>19.0</td>\n",
       "    </tr>\n",
       "  </tbody>\n",
       "</table>\n",
       "</div>"
      ],
      "text/plain": [
       "     ProdId  QuantityAVG\n",
       "326    5469        300.0\n",
       "304    5219         52.0\n",
       "285    4968         27.0\n",
       "221    3700         19.0\n",
       "259    4592         19.0"
      ]
     },
     "execution_count": 27,
     "metadata": {},
     "output_type": "execute_result"
    }
   ],
   "source": [
    "exp_qte.sort_values(by='QuantityAVG', ascending = False).head()"
   ]
  },
  {
   "cell_type": "code",
   "execution_count": 28,
   "metadata": {},
   "outputs": [
    {
     "data": {
      "text/plain": [
       "count    446.000000\n",
       "mean       2.825673\n",
       "std       14.541654\n",
       "min        1.000000\n",
       "25%        1.000000\n",
       "50%        1.000000\n",
       "75%        2.000000\n",
       "max      300.000000\n",
       "Name: QuantityAVG, dtype: float64"
      ]
     },
     "execution_count": 28,
     "metadata": {},
     "output_type": "execute_result"
    }
   ],
   "source": [
    "exp_qte['QuantityAVG'].describe()"
   ]
  },
  {
   "cell_type": "code",
   "execution_count": 32,
   "metadata": {},
   "outputs": [
    {
     "data": {
      "text/plain": [
       "<Axes: xlabel='QuantityAVG'>"
      ]
     },
     "execution_count": 32,
     "metadata": {},
     "output_type": "execute_result"
    },
    {
     "data": {
      "image/png": "[encoded data removed]",
      "text/plain": [
       "<Figure size 1300x600 with 1 Axes>"
      ]
     },
     "metadata": {},
     "output_type": "display_data"
    }
   ],
   "source": [
    "plt.figure(figsize=(13, 6))\n",
    "sns.boxplot(x='QuantityAVG', data=exp_qte)"
   ]
  },
  {
   "cell_type": "code",
   "execution_count": null,
   "metadata": {},
   "outputs": [],
   "source": []
  }
 ],
 "metadata": {
  "kernelspec": {
   "display_name": "ste",
   "language": "python",
   "name": "python3"
  },
  "language_info": {
   "codemirror_mode": {
    "name": "ipython",
    "version": 3
   },
   "file_extension": ".py",
   "mimetype": "text/x-python",
   "name": "python",
   "nbconvert_exporter": "python",
   "pygments_lexer": "ipython3",
   "version": "3.12.6"
  }
 },
 "nbformat": 4,
 "nbformat_minor": 2
}
